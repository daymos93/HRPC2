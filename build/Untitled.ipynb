{
 "cells": [
  {
   "cell_type": "code",
   "execution_count": 9,
   "metadata": {},
   "outputs": [
    {
     "name": "stdout",
     "output_type": "stream",
     "text": [
      "306\n"
     ]
    }
   ],
   "source": [
    "import math\t\t\t\t\t\t\t\t\t\t#importa la libreria matematica\n",
    "import string\t\t\t\t\t\t\t\t\t\t#importa la libreria stringhe\n",
    "import glob\n",
    "\n",
    "\n",
    "#librerie pyROOT per disegnare grafici\n",
    "import ROOT\n",
    "from ROOT import gROOT\n",
    "from ROOT import TCanvas, TGraph, gPad, TF1, TF2 , kRed, TMultiGraph, TLegend, gStyle, TPaveStats, TStyle, TText, TList, TLatex, TMath, TFormula, TGraphErrors, TTree, TDatime, TMath\n",
    "from ROOT import TCanvas, TGraph, gPad, TF1, kRed, TMultiGraph, TLegend, gStyle, TPaveStats, TStyle, TText, TList, TLatex, TMultiGraph, TH1F, TFile\n",
    "from array import array\n",
    "\n",
    "myfile = TFile(\"hrpc.root\")\n",
    "mytree = myfile.neutron_incident_TOT.GetEntries() # this is the name of the tree in the file\n",
    "\n",
    "print(mytree)"
   ]
  },
  {
   "cell_type": "code",
   "execution_count": null,
   "metadata": {},
   "outputs": [],
   "source": []
  }
 ],
 "metadata": {
  "kernelspec": {
   "display_name": "Python 3",
   "language": "python",
   "name": "python3"
  },
  "language_info": {
   "codemirror_mode": {
    "name": "ipython",
    "version": 2
   },
   "file_extension": ".py",
   "mimetype": "text/x-python",
   "name": "python",
   "nbconvert_exporter": "python",
   "pygments_lexer": "ipython2",
   "version": "2.7.17"
  }
 },
 "nbformat": 4,
 "nbformat_minor": 2
}
